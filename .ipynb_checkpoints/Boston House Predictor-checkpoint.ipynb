{
 "cells": [
  {
   "cell_type": "markdown",
   "metadata": {},
   "source": [
    "## Boston House Predictor\n",
    "\n",
    "In this notebook we will use gradient descent for predicting house prices. We will use sklearn's boston houses data set to train our model.\n",
    "\n",
    "We will try using feature scaling to see if our results improve by any means.\n",
    "\n",
    "## Accuracy of Model - 0.87817"
   ]
  },
  {
   "cell_type": "code",
   "execution_count": 1,
   "metadata": {},
   "outputs": [],
   "source": [
    "import numpy as np\n",
    "import pandas as pd\n",
    "import matplotlib.pyplot as plt\n",
    "import time"
   ]
  },
  {
   "cell_type": "code",
   "execution_count": 2,
   "metadata": {},
   "outputs": [
    {
     "data": {
      "text/plain": [
       "((379, 14), (379, 105), (379,), (127, 105))"
      ]
     },
     "execution_count": 2,
     "metadata": {},
     "output_type": "execute_result"
    }
   ],
   "source": [
    "# Loading data\n",
    "data = np.genfromtxt('boston_x_y_train.csv', delimiter=',')\n",
    "# Splitting into X_train and Y_train\n",
    "X_train = data[:, 0:13]\n",
    "Y_train = data[:, 13]\n",
    "\n",
    "\n",
    "# we will try to convert the training data into degree 2 to calculate a more complex boundary\n",
    "columns = X_train.shape[1]\n",
    "\n",
    "# cross pairs\n",
    "for j in range(columns):\n",
    "    for k in range(j + 1, columns):\n",
    "        new_column = (X_train[:, j] * X_train[:, k]).reshape(-1, 1)\n",
    "        X_train = np.append(X_train, new_column, axis=1)\n",
    "\n",
    "# pair with self\n",
    "for i in range(columns):\n",
    "    new_column = (X_train[:, i] * X_train[:, i]).reshape(-1,1)\n",
    "    X_train = np.append(X_train, new_column, axis=1)\n",
    "    \n",
    "# adding a row of ones to training data for gradient descent implementation\n",
    "ones = np.ones(X_train.shape[0]).reshape(-1, 1)\n",
    "X_train = np.append(X_train, ones, axis=1)\n",
    "\n",
    "X_test = np.genfromtxt('boston_x_test.csv', delimiter=',')\n",
    "\n",
    "#testing data - degree 2\n",
    "columns = X_test.shape[1]\n",
    "\n",
    "# cross pairs\n",
    "for j in range(columns):\n",
    "    for k in range(j + 1, columns):\n",
    "        new_column = (X_test[:, j] * X_test[:, k]).reshape(-1, 1)\n",
    "        X_test = np.append(X_test, new_column, axis=1)\n",
    "\n",
    "# pair with self\n",
    "for i in range(columns):\n",
    "    new_column = (X_test[:, i] * X_test[:, i]).reshape(-1,1)\n",
    "    X_test = np.append(X_test, new_column, axis=1)\n",
    "\n",
    "test_ones = np.ones(X_test.shape[0]).reshape(-1, 1)\n",
    "X_test = np.append(X_test, test_ones, axis=1)\n",
    "\n",
    "\n",
    "data.shape, X_train.shape, Y_train.shape, X_test.shape"
   ]
  },
  {
   "cell_type": "code",
   "execution_count": 3,
   "metadata": {},
   "outputs": [
    {
     "data": {
      "text/html": [
       "<div>\n",
       "<style scoped>\n",
       "    .dataframe tbody tr th:only-of-type {\n",
       "        vertical-align: middle;\n",
       "    }\n",
       "\n",
       "    .dataframe tbody tr th {\n",
       "        vertical-align: top;\n",
       "    }\n",
       "\n",
       "    .dataframe thead th {\n",
       "        text-align: right;\n",
       "    }\n",
       "</style>\n",
       "<table border=\"1\" class=\"dataframe\">\n",
       "  <thead>\n",
       "    <tr style=\"text-align: right;\">\n",
       "      <th></th>\n",
       "      <th>0</th>\n",
       "      <th>1</th>\n",
       "      <th>2</th>\n",
       "      <th>3</th>\n",
       "      <th>4</th>\n",
       "      <th>5</th>\n",
       "      <th>6</th>\n",
       "      <th>7</th>\n",
       "      <th>8</th>\n",
       "      <th>9</th>\n",
       "      <th>...</th>\n",
       "      <th>95</th>\n",
       "      <th>96</th>\n",
       "      <th>97</th>\n",
       "      <th>98</th>\n",
       "      <th>99</th>\n",
       "      <th>100</th>\n",
       "      <th>101</th>\n",
       "      <th>102</th>\n",
       "      <th>103</th>\n",
       "      <th>104</th>\n",
       "    </tr>\n",
       "  </thead>\n",
       "  <tbody>\n",
       "    <tr>\n",
       "      <th>0</th>\n",
       "      <td>-0.407850</td>\n",
       "      <td>-0.487722</td>\n",
       "      <td>-1.266023</td>\n",
       "      <td>-0.272599</td>\n",
       "      <td>-0.576134</td>\n",
       "      <td>1.239974</td>\n",
       "      <td>0.840122</td>\n",
       "      <td>-0.520264</td>\n",
       "      <td>-0.752922</td>\n",
       "      <td>-1.278354</td>\n",
       "      <td>...</td>\n",
       "      <td>0.331930</td>\n",
       "      <td>1.537535</td>\n",
       "      <td>0.705805</td>\n",
       "      <td>0.270675</td>\n",
       "      <td>0.566892</td>\n",
       "      <td>1.634190</td>\n",
       "      <td>0.091866</td>\n",
       "      <td>0.168569</td>\n",
       "      <td>1.205582</td>\n",
       "      <td>1.0</td>\n",
       "    </tr>\n",
       "    <tr>\n",
       "      <th>1</th>\n",
       "      <td>-0.407374</td>\n",
       "      <td>-0.487722</td>\n",
       "      <td>0.247057</td>\n",
       "      <td>-0.272599</td>\n",
       "      <td>-1.016689</td>\n",
       "      <td>0.001946</td>\n",
       "      <td>-0.838337</td>\n",
       "      <td>0.336351</td>\n",
       "      <td>-0.523001</td>\n",
       "      <td>-0.060801</td>\n",
       "      <td>...</td>\n",
       "      <td>1.033656</td>\n",
       "      <td>0.000004</td>\n",
       "      <td>0.702809</td>\n",
       "      <td>0.113132</td>\n",
       "      <td>0.273531</td>\n",
       "      <td>0.003697</td>\n",
       "      <td>0.012776</td>\n",
       "      <td>0.084779</td>\n",
       "      <td>0.270893</td>\n",
       "      <td>1.0</td>\n",
       "    </tr>\n",
       "    <tr>\n",
       "      <th>2</th>\n",
       "      <td>0.125179</td>\n",
       "      <td>-0.487722</td>\n",
       "      <td>1.015999</td>\n",
       "      <td>-0.272599</td>\n",
       "      <td>1.367490</td>\n",
       "      <td>-0.439699</td>\n",
       "      <td>0.687212</td>\n",
       "      <td>-0.577309</td>\n",
       "      <td>1.661245</td>\n",
       "      <td>1.530926</td>\n",
       "      <td>...</td>\n",
       "      <td>1.870030</td>\n",
       "      <td>0.193335</td>\n",
       "      <td>0.472260</td>\n",
       "      <td>0.333285</td>\n",
       "      <td>2.759736</td>\n",
       "      <td>2.343736</td>\n",
       "      <td>0.650565</td>\n",
       "      <td>14.408063</td>\n",
       "      <td>0.794016</td>\n",
       "      <td>1.0</td>\n",
       "    </tr>\n",
       "    <tr>\n",
       "      <th>3</th>\n",
       "      <td>0.028304</td>\n",
       "      <td>-0.487722</td>\n",
       "      <td>1.015999</td>\n",
       "      <td>-0.272599</td>\n",
       "      <td>1.859875</td>\n",
       "      <td>-0.047918</td>\n",
       "      <td>0.801005</td>\n",
       "      <td>-0.712836</td>\n",
       "      <td>1.661245</td>\n",
       "      <td>1.530926</td>\n",
       "      <td>...</td>\n",
       "      <td>3.459136</td>\n",
       "      <td>0.002296</td>\n",
       "      <td>0.641610</td>\n",
       "      <td>0.508136</td>\n",
       "      <td>2.759736</td>\n",
       "      <td>2.343736</td>\n",
       "      <td>0.650565</td>\n",
       "      <td>0.004363</td>\n",
       "      <td>0.046414</td>\n",
       "      <td>1.0</td>\n",
       "    </tr>\n",
       "    <tr>\n",
       "      <th>4</th>\n",
       "      <td>-0.412408</td>\n",
       "      <td>-0.487722</td>\n",
       "      <td>-0.969827</td>\n",
       "      <td>-0.272599</td>\n",
       "      <td>-0.913029</td>\n",
       "      <td>-0.384137</td>\n",
       "      <td>-0.834781</td>\n",
       "      <td>0.300508</td>\n",
       "      <td>-0.752922</td>\n",
       "      <td>-0.957633</td>\n",
       "      <td>...</td>\n",
       "      <td>0.833622</td>\n",
       "      <td>0.147561</td>\n",
       "      <td>0.696859</td>\n",
       "      <td>0.090305</td>\n",
       "      <td>0.566892</td>\n",
       "      <td>0.917061</td>\n",
       "      <td>0.000423</td>\n",
       "      <td>0.185825</td>\n",
       "      <td>0.000841</td>\n",
       "      <td>1.0</td>\n",
       "    </tr>\n",
       "  </tbody>\n",
       "</table>\n",
       "<p>5 rows × 105 columns</p>\n",
       "</div>"
      ],
      "text/plain": [
       "        0         1         2         3         4         5         6    \\\n",
       "0 -0.407850 -0.487722 -1.266023 -0.272599 -0.576134  1.239974  0.840122   \n",
       "1 -0.407374 -0.487722  0.247057 -0.272599 -1.016689  0.001946 -0.838337   \n",
       "2  0.125179 -0.487722  1.015999 -0.272599  1.367490 -0.439699  0.687212   \n",
       "3  0.028304 -0.487722  1.015999 -0.272599  1.859875 -0.047918  0.801005   \n",
       "4 -0.412408 -0.487722 -0.969827 -0.272599 -0.913029 -0.384137 -0.834781   \n",
       "\n",
       "        7         8         9   ...        95        96        97        98   \\\n",
       "0 -0.520264 -0.752922 -1.278354 ...   0.331930  1.537535  0.705805  0.270675   \n",
       "1  0.336351 -0.523001 -0.060801 ...   1.033656  0.000004  0.702809  0.113132   \n",
       "2 -0.577309  1.661245  1.530926 ...   1.870030  0.193335  0.472260  0.333285   \n",
       "3 -0.712836  1.661245  1.530926 ...   3.459136  0.002296  0.641610  0.508136   \n",
       "4  0.300508 -0.752922 -0.957633 ...   0.833622  0.147561  0.696859  0.090305   \n",
       "\n",
       "        99        100       101        102       103  104  \n",
       "0  0.566892  1.634190  0.091866   0.168569  1.205582  1.0  \n",
       "1  0.273531  0.003697  0.012776   0.084779  0.270893  1.0  \n",
       "2  2.759736  2.343736  0.650565  14.408063  0.794016  1.0  \n",
       "3  2.759736  2.343736  0.650565   0.004363  0.046414  1.0  \n",
       "4  0.566892  0.917061  0.000423   0.185825  0.000841  1.0  \n",
       "\n",
       "[5 rows x 105 columns]"
      ]
     },
     "execution_count": 3,
     "metadata": {},
     "output_type": "execute_result"
    }
   ],
   "source": [
    "# Creating a data frame\n",
    "df = pd.DataFrame(X_train)\n",
    "df.head()"
   ]
  },
  {
   "cell_type": "code",
   "execution_count": 4,
   "metadata": {},
   "outputs": [
    {
     "data": {
      "text/html": [
       "<div>\n",
       "<style scoped>\n",
       "    .dataframe tbody tr th:only-of-type {\n",
       "        vertical-align: middle;\n",
       "    }\n",
       "\n",
       "    .dataframe tbody tr th {\n",
       "        vertical-align: top;\n",
       "    }\n",
       "\n",
       "    .dataframe thead th {\n",
       "        text-align: right;\n",
       "    }\n",
       "</style>\n",
       "<table border=\"1\" class=\"dataframe\">\n",
       "  <thead>\n",
       "    <tr style=\"text-align: right;\">\n",
       "      <th></th>\n",
       "      <th>0</th>\n",
       "      <th>1</th>\n",
       "      <th>2</th>\n",
       "      <th>3</th>\n",
       "      <th>4</th>\n",
       "      <th>5</th>\n",
       "      <th>6</th>\n",
       "      <th>7</th>\n",
       "      <th>8</th>\n",
       "      <th>9</th>\n",
       "      <th>...</th>\n",
       "      <th>95</th>\n",
       "      <th>96</th>\n",
       "      <th>97</th>\n",
       "      <th>98</th>\n",
       "      <th>99</th>\n",
       "      <th>100</th>\n",
       "      <th>101</th>\n",
       "      <th>102</th>\n",
       "      <th>103</th>\n",
       "      <th>104</th>\n",
       "    </tr>\n",
       "  </thead>\n",
       "  <tbody>\n",
       "    <tr>\n",
       "      <th>count</th>\n",
       "      <td>379.000000</td>\n",
       "      <td>379.000000</td>\n",
       "      <td>379.000000</td>\n",
       "      <td>379.000000</td>\n",
       "      <td>379.000000</td>\n",
       "      <td>379.000000</td>\n",
       "      <td>379.000000</td>\n",
       "      <td>379.000000</td>\n",
       "      <td>379.000000</td>\n",
       "      <td>379.000000</td>\n",
       "      <td>...</td>\n",
       "      <td>379.000000</td>\n",
       "      <td>379.000000</td>\n",
       "      <td>379.000000</td>\n",
       "      <td>3.790000e+02</td>\n",
       "      <td>379.000000</td>\n",
       "      <td>379.000000</td>\n",
       "      <td>379.000000</td>\n",
       "      <td>379.000000</td>\n",
       "      <td>379.000000</td>\n",
       "      <td>379.0</td>\n",
       "    </tr>\n",
       "    <tr>\n",
       "      <th>mean</th>\n",
       "      <td>0.019628</td>\n",
       "      <td>0.002455</td>\n",
       "      <td>0.036170</td>\n",
       "      <td>0.028955</td>\n",
       "      <td>0.028775</td>\n",
       "      <td>0.032202</td>\n",
       "      <td>0.038395</td>\n",
       "      <td>-0.001288</td>\n",
       "      <td>0.043307</td>\n",
       "      <td>0.043786</td>\n",
       "      <td>...</td>\n",
       "      <td>0.997504</td>\n",
       "      <td>1.000742</td>\n",
       "      <td>0.969551</td>\n",
       "      <td>1.053594e+00</td>\n",
       "      <td>1.031945</td>\n",
       "      <td>1.039519</td>\n",
       "      <td>0.998321</td>\n",
       "      <td>1.029370</td>\n",
       "      <td>1.028610</td>\n",
       "      <td>1.0</td>\n",
       "    </tr>\n",
       "    <tr>\n",
       "      <th>std</th>\n",
       "      <td>1.067490</td>\n",
       "      <td>1.000813</td>\n",
       "      <td>1.017497</td>\n",
       "      <td>1.048995</td>\n",
       "      <td>0.999656</td>\n",
       "      <td>1.001174</td>\n",
       "      <td>0.985209</td>\n",
       "      <td>1.027803</td>\n",
       "      <td>1.016265</td>\n",
       "      <td>1.019974</td>\n",
       "      <td>...</td>\n",
       "      <td>1.396079</td>\n",
       "      <td>1.935390</td>\n",
       "      <td>1.008492</td>\n",
       "      <td>1.658692e+00</td>\n",
       "      <td>1.087950</td>\n",
       "      <td>0.946287</td>\n",
       "      <td>1.318942</td>\n",
       "      <td>3.077050</td>\n",
       "      <td>1.508958</td>\n",
       "      <td>0.0</td>\n",
       "    </tr>\n",
       "    <tr>\n",
       "      <th>min</th>\n",
       "      <td>-0.417713</td>\n",
       "      <td>-0.487722</td>\n",
       "      <td>-1.516987</td>\n",
       "      <td>-0.272599</td>\n",
       "      <td>-1.465882</td>\n",
       "      <td>-3.880249</td>\n",
       "      <td>-2.335437</td>\n",
       "      <td>-1.267069</td>\n",
       "      <td>-0.982843</td>\n",
       "      <td>-1.313990</td>\n",
       "      <td>...</td>\n",
       "      <td>0.001645</td>\n",
       "      <td>0.000004</td>\n",
       "      <td>0.000020</td>\n",
       "      <td>4.799164e-07</td>\n",
       "      <td>0.031727</td>\n",
       "      <td>0.000269</td>\n",
       "      <td>0.000423</td>\n",
       "      <td>0.000012</td>\n",
       "      <td>0.000003</td>\n",
       "      <td>1.0</td>\n",
       "    </tr>\n",
       "    <tr>\n",
       "      <th>25%</th>\n",
       "      <td>-0.408171</td>\n",
       "      <td>-0.487722</td>\n",
       "      <td>-0.867691</td>\n",
       "      <td>-0.272599</td>\n",
       "      <td>-0.878475</td>\n",
       "      <td>-0.571480</td>\n",
       "      <td>-0.768994</td>\n",
       "      <td>-0.829872</td>\n",
       "      <td>-0.637962</td>\n",
       "      <td>-0.755697</td>\n",
       "      <td>...</td>\n",
       "      <td>0.159407</td>\n",
       "      <td>0.069469</td>\n",
       "      <td>0.279809</td>\n",
       "      <td>1.932673e-01</td>\n",
       "      <td>0.273531</td>\n",
       "      <td>0.264064</td>\n",
       "      <td>0.118483</td>\n",
       "      <td>0.100486</td>\n",
       "      <td>0.134259</td>\n",
       "      <td>1.0</td>\n",
       "    </tr>\n",
       "    <tr>\n",
       "      <th>50%</th>\n",
       "      <td>-0.383729</td>\n",
       "      <td>-0.487722</td>\n",
       "      <td>-0.180458</td>\n",
       "      <td>-0.272599</td>\n",
       "      <td>-0.144217</td>\n",
       "      <td>-0.103479</td>\n",
       "      <td>0.338718</td>\n",
       "      <td>-0.329213</td>\n",
       "      <td>-0.523001</td>\n",
       "      <td>-0.440915</td>\n",
       "      <td>...</td>\n",
       "      <td>0.635784</td>\n",
       "      <td>0.319303</td>\n",
       "      <td>0.779327</td>\n",
       "      <td>6.304826e-01</td>\n",
       "      <td>0.406995</td>\n",
       "      <td>0.616844</td>\n",
       "      <td>0.650565</td>\n",
       "      <td>0.164186</td>\n",
       "      <td>0.572306</td>\n",
       "      <td>1.0</td>\n",
       "    </tr>\n",
       "    <tr>\n",
       "      <th>75%</th>\n",
       "      <td>0.055208</td>\n",
       "      <td>0.156071</td>\n",
       "      <td>1.015999</td>\n",
       "      <td>-0.272599</td>\n",
       "      <td>0.628913</td>\n",
       "      <td>0.529069</td>\n",
       "      <td>0.911243</td>\n",
       "      <td>0.674172</td>\n",
       "      <td>1.661245</td>\n",
       "      <td>1.530926</td>\n",
       "      <td>...</td>\n",
       "      <td>1.427365</td>\n",
       "      <td>0.947824</td>\n",
       "      <td>1.246801</td>\n",
       "      <td>1.161516e+00</td>\n",
       "      <td>2.759736</td>\n",
       "      <td>2.343736</td>\n",
       "      <td>1.283215</td>\n",
       "      <td>0.194527</td>\n",
       "      <td>1.246537</td>\n",
       "      <td>1.0</td>\n",
       "    </tr>\n",
       "    <tr>\n",
       "      <th>max</th>\n",
       "      <td>9.941735</td>\n",
       "      <td>3.804234</td>\n",
       "      <td>2.422565</td>\n",
       "      <td>3.668398</td>\n",
       "      <td>2.732346</td>\n",
       "      <td>3.555044</td>\n",
       "      <td>1.117494</td>\n",
       "      <td>3.960518</td>\n",
       "      <td>1.661245</td>\n",
       "      <td>1.798194</td>\n",
       "      <td>...</td>\n",
       "      <td>7.465717</td>\n",
       "      <td>15.056335</td>\n",
       "      <td>5.454266</td>\n",
       "      <td>1.568570e+01</td>\n",
       "      <td>2.759736</td>\n",
       "      <td>3.233502</td>\n",
       "      <td>7.329902</td>\n",
       "      <td>15.078246</td>\n",
       "      <td>11.628092</td>\n",
       "      <td>1.0</td>\n",
       "    </tr>\n",
       "  </tbody>\n",
       "</table>\n",
       "<p>8 rows × 105 columns</p>\n",
       "</div>"
      ],
      "text/plain": [
       "              0           1           2           3           4           5    \\\n",
       "count  379.000000  379.000000  379.000000  379.000000  379.000000  379.000000   \n",
       "mean     0.019628    0.002455    0.036170    0.028955    0.028775    0.032202   \n",
       "std      1.067490    1.000813    1.017497    1.048995    0.999656    1.001174   \n",
       "min     -0.417713   -0.487722   -1.516987   -0.272599   -1.465882   -3.880249   \n",
       "25%     -0.408171   -0.487722   -0.867691   -0.272599   -0.878475   -0.571480   \n",
       "50%     -0.383729   -0.487722   -0.180458   -0.272599   -0.144217   -0.103479   \n",
       "75%      0.055208    0.156071    1.015999   -0.272599    0.628913    0.529069   \n",
       "max      9.941735    3.804234    2.422565    3.668398    2.732346    3.555044   \n",
       "\n",
       "              6           7           8           9    ...           95   \\\n",
       "count  379.000000  379.000000  379.000000  379.000000  ...    379.000000   \n",
       "mean     0.038395   -0.001288    0.043307    0.043786  ...      0.997504   \n",
       "std      0.985209    1.027803    1.016265    1.019974  ...      1.396079   \n",
       "min     -2.335437   -1.267069   -0.982843   -1.313990  ...      0.001645   \n",
       "25%     -0.768994   -0.829872   -0.637962   -0.755697  ...      0.159407   \n",
       "50%      0.338718   -0.329213   -0.523001   -0.440915  ...      0.635784   \n",
       "75%      0.911243    0.674172    1.661245    1.530926  ...      1.427365   \n",
       "max      1.117494    3.960518    1.661245    1.798194  ...      7.465717   \n",
       "\n",
       "              96          97            98          99          100  \\\n",
       "count  379.000000  379.000000  3.790000e+02  379.000000  379.000000   \n",
       "mean     1.000742    0.969551  1.053594e+00    1.031945    1.039519   \n",
       "std      1.935390    1.008492  1.658692e+00    1.087950    0.946287   \n",
       "min      0.000004    0.000020  4.799164e-07    0.031727    0.000269   \n",
       "25%      0.069469    0.279809  1.932673e-01    0.273531    0.264064   \n",
       "50%      0.319303    0.779327  6.304826e-01    0.406995    0.616844   \n",
       "75%      0.947824    1.246801  1.161516e+00    2.759736    2.343736   \n",
       "max     15.056335    5.454266  1.568570e+01    2.759736    3.233502   \n",
       "\n",
       "              101         102         103    104  \n",
       "count  379.000000  379.000000  379.000000  379.0  \n",
       "mean     0.998321    1.029370    1.028610    1.0  \n",
       "std      1.318942    3.077050    1.508958    0.0  \n",
       "min      0.000423    0.000012    0.000003    1.0  \n",
       "25%      0.118483    0.100486    0.134259    1.0  \n",
       "50%      0.650565    0.164186    0.572306    1.0  \n",
       "75%      1.283215    0.194527    1.246537    1.0  \n",
       "max      7.329902   15.078246   11.628092    1.0  \n",
       "\n",
       "[8 rows x 105 columns]"
      ]
     },
     "execution_count": 4,
     "metadata": {},
     "output_type": "execute_result"
    }
   ],
   "source": [
    "# Describing our data\n",
    "df.describe()"
   ]
  },
  {
   "cell_type": "markdown",
   "metadata": {},
   "source": [
    "### Gradient Descent For N Features"
   ]
  },
  {
   "cell_type": "code",
   "execution_count": null,
   "metadata": {},
   "outputs": [],
   "source": [
    "def step_gradient(X_train, Y_train, learning_rate, m,j):\n",
    "    # Calculate new slope for jth feature\n",
    "    m_j = 0\n",
    "    n_data_pts = X_train.shape[0]\n",
    "    N = len(m)\n",
    "    for i in range(n_data_pts):\n",
    "        # calculate the formula m1xi(1)+m2xi(2)+...\n",
    "        x_i = X_train[i, :]\n",
    "        y_i = Y_train[i]\n",
    "        temp_sum = 0\n",
    "        for k in range(N):\n",
    "            temp_sum += m[k]*x_i[k]\n",
    "        ### sub y_i from temp sum\n",
    "        temp_sum = y_i - temp_sum\n",
    "        ## complete formula\n",
    "        m_j += (-2/n_data_pts) * (temp_sum) * x_i[j]\n",
    "    # update m[j] and return\n",
    "    m[j] = m[j] - (learning_rate*m_j)\n",
    "    return m[j]"
   ]
  },
  {
   "cell_type": "code",
   "execution_count": null,
   "metadata": {},
   "outputs": [],
   "source": [
    "def gradient_descent(X_train, Y_train, learning_rate, num_iterations):\n",
    "    # Start with random values for all m's\n",
    "    m = [0]*(X_train.shape[1])\n",
    "    m[-1] = 1 #c\n",
    "    N = len(m)\n",
    "    x_data = []\n",
    "    y_data = []\n",
    "    fig = plt.figure()\n",
    "    for i in range(num_iterations):\n",
    "        # For all iterations do the following\n",
    "        for j in range(N):\n",
    "            m[j] = step_gradient(X_train, Y_train, learning_rate, m,j)\n",
    "        a = cost(X_train, Y_train, m)\n",
    "        x_data.append(i)\n",
    "        y_data.append(a)\n",
    "        plt.plot(x_data,y_data,'*')\n",
    "        print(\"Cost - : \", i, a)\n",
    "        plt.draw()\n",
    "        plt.pause(1e-17)\n",
    "        time.sleep(0.1)\n",
    "    return m"
   ]
  },
  {
   "cell_type": "code",
   "execution_count": null,
   "metadata": {},
   "outputs": [],
   "source": [
    "def cost(X_train, Y_train, m):\n",
    "    # This will calculate mean square error\n",
    "    cost = 0\n",
    "    n_data_pts = len(X_train)\n",
    "    N = len(m)\n",
    "    for i in range(n_data_pts):\n",
    "        x_i = X_train[i, :]\n",
    "        y_i = Y_train[i]\n",
    "        temp_sum = 0\n",
    "        for k in range(N):\n",
    "            temp_sum += m[k]*x_i[k]\n",
    "        temp_sum = y_i - temp_sum\n",
    "        cost += (1/n_data_pts) * ((temp_sum)**2)\n",
    "    return cost"
   ]
  },
  {
   "cell_type": "code",
   "execution_count": null,
   "metadata": {},
   "outputs": [],
   "source": [
    "def predict(X_test, m):\n",
    "    n_fts = X_train.shape[1]\n",
    "    n_m = np.array(m).reshape(n_fts, 1)\n",
    "    return np.dot(X_test, n_m)"
   ]
  },
  {
   "cell_type": "code",
   "execution_count": null,
   "metadata": {},
   "outputs": [
    {
     "data": {
      "text/html": [
       "<div>\n",
       "<style scoped>\n",
       "    .dataframe tbody tr th:only-of-type {\n",
       "        vertical-align: middle;\n",
       "    }\n",
       "\n",
       "    .dataframe tbody tr th {\n",
       "        vertical-align: top;\n",
       "    }\n",
       "\n",
       "    .dataframe thead th {\n",
       "        text-align: right;\n",
       "    }\n",
       "</style>\n",
       "<table border=\"1\" class=\"dataframe\">\n",
       "  <thead>\n",
       "    <tr style=\"text-align: right;\">\n",
       "      <th></th>\n",
       "      <th>0</th>\n",
       "      <th>1</th>\n",
       "      <th>2</th>\n",
       "      <th>3</th>\n",
       "      <th>4</th>\n",
       "      <th>5</th>\n",
       "      <th>6</th>\n",
       "      <th>7</th>\n",
       "      <th>8</th>\n",
       "      <th>9</th>\n",
       "      <th>...</th>\n",
       "      <th>95</th>\n",
       "      <th>96</th>\n",
       "      <th>97</th>\n",
       "      <th>98</th>\n",
       "      <th>99</th>\n",
       "      <th>100</th>\n",
       "      <th>101</th>\n",
       "      <th>102</th>\n",
       "      <th>103</th>\n",
       "      <th>104</th>\n",
       "    </tr>\n",
       "  </thead>\n",
       "  <tbody>\n",
       "    <tr>\n",
       "      <th>count</th>\n",
       "      <td>127.000000</td>\n",
       "      <td>127.000000</td>\n",
       "      <td>127.000000</td>\n",
       "      <td>127.000000</td>\n",
       "      <td>127.000000</td>\n",
       "      <td>127.000000</td>\n",
       "      <td>127.000000</td>\n",
       "      <td>127.000000</td>\n",
       "      <td>127.000000</td>\n",
       "      <td>127.000000</td>\n",
       "      <td>...</td>\n",
       "      <td>127.000000</td>\n",
       "      <td>127.000000</td>\n",
       "      <td>127.000000</td>\n",
       "      <td>1.270000e+02</td>\n",
       "      <td>127.000000</td>\n",
       "      <td>127.000000</td>\n",
       "      <td>127.000000</td>\n",
       "      <td>127.000000</td>\n",
       "      <td>127.000000</td>\n",
       "      <td>127.0</td>\n",
       "    </tr>\n",
       "    <tr>\n",
       "      <th>mean</th>\n",
       "      <td>-0.058575</td>\n",
       "      <td>-0.007327</td>\n",
       "      <td>-0.107939</td>\n",
       "      <td>-0.086410</td>\n",
       "      <td>-0.085871</td>\n",
       "      <td>-0.096098</td>\n",
       "      <td>-0.114581</td>\n",
       "      <td>0.003845</td>\n",
       "      <td>-0.129240</td>\n",
       "      <td>-0.130670</td>\n",
       "      <td>...</td>\n",
       "      <td>1.007449</td>\n",
       "      <td>0.997785</td>\n",
       "      <td>1.090868</td>\n",
       "      <td>8.400622e-01</td>\n",
       "      <td>0.904669</td>\n",
       "      <td>0.882064</td>\n",
       "      <td>1.005011</td>\n",
       "      <td>0.912351</td>\n",
       "      <td>0.914621</td>\n",
       "      <td>1.0</td>\n",
       "    </tr>\n",
       "    <tr>\n",
       "      <th>std</th>\n",
       "      <td>0.769837</td>\n",
       "      <td>1.005445</td>\n",
       "      <td>0.945672</td>\n",
       "      <td>0.839435</td>\n",
       "      <td>1.003998</td>\n",
       "      <td>0.998196</td>\n",
       "      <td>1.042254</td>\n",
       "      <td>0.920171</td>\n",
       "      <td>0.946051</td>\n",
       "      <td>0.933732</td>\n",
       "      <td>...</td>\n",
       "      <td>1.371094</td>\n",
       "      <td>2.065959</td>\n",
       "      <td>1.036346</td>\n",
       "      <td>1.279148e+00</td>\n",
       "      <td>0.986262</td>\n",
       "      <td>0.858238</td>\n",
       "      <td>1.277402</td>\n",
       "      <td>2.881870</td>\n",
       "      <td>1.762049</td>\n",
       "      <td>0.0</td>\n",
       "    </tr>\n",
       "    <tr>\n",
       "      <th>min</th>\n",
       "      <td>-0.417173</td>\n",
       "      <td>-0.487722</td>\n",
       "      <td>-1.557842</td>\n",
       "      <td>-0.272599</td>\n",
       "      <td>-1.431329</td>\n",
       "      <td>-3.058221</td>\n",
       "      <td>-2.225199</td>\n",
       "      <td>-1.263551</td>\n",
       "      <td>-0.982843</td>\n",
       "      <td>-1.308051</td>\n",
       "      <td>...</td>\n",
       "      <td>0.001645</td>\n",
       "      <td>0.000275</td>\n",
       "      <td>0.000064</td>\n",
       "      <td>4.799164e-07</td>\n",
       "      <td>0.031727</td>\n",
       "      <td>0.000269</td>\n",
       "      <td>0.000423</td>\n",
       "      <td>0.000205</td>\n",
       "      <td>0.000006</td>\n",
       "      <td>1.0</td>\n",
       "    </tr>\n",
       "    <tr>\n",
       "      <th>25%</th>\n",
       "      <td>-0.410832</td>\n",
       "      <td>-0.487722</td>\n",
       "      <td>-0.891036</td>\n",
       "      <td>-0.272599</td>\n",
       "      <td>-0.947582</td>\n",
       "      <td>-0.567918</td>\n",
       "      <td>-1.240171</td>\n",
       "      <td>-0.762417</td>\n",
       "      <td>-0.637962</td>\n",
       "      <td>-0.785394</td>\n",
       "      <td>...</td>\n",
       "      <td>0.125565</td>\n",
       "      <td>0.041906</td>\n",
       "      <td>0.281686</td>\n",
       "      <td>1.238452e-01</td>\n",
       "      <td>0.273531</td>\n",
       "      <td>0.181269</td>\n",
       "      <td>0.105174</td>\n",
       "      <td>0.130853</td>\n",
       "      <td>0.091965</td>\n",
       "      <td>1.0</td>\n",
       "    </tr>\n",
       "    <tr>\n",
       "      <th>50%</th>\n",
       "      <td>-0.398269</td>\n",
       "      <td>-0.487722</td>\n",
       "      <td>-0.375976</td>\n",
       "      <td>-0.272599</td>\n",
       "      <td>-0.299707</td>\n",
       "      <td>-0.127698</td>\n",
       "      <td>0.111130</td>\n",
       "      <td>-0.202052</td>\n",
       "      <td>-0.523001</td>\n",
       "      <td>-0.601276</td>\n",
       "      <td>...</td>\n",
       "      <td>0.811838</td>\n",
       "      <td>0.212584</td>\n",
       "      <td>0.883020</td>\n",
       "      <td>5.135718e-01</td>\n",
       "      <td>0.406995</td>\n",
       "      <td>0.571079</td>\n",
       "      <td>0.650565</td>\n",
       "      <td>0.175848</td>\n",
       "      <td>0.311722</td>\n",
       "      <td>1.0</td>\n",
       "    </tr>\n",
       "    <tr>\n",
       "      <th>75%</th>\n",
       "      <td>-0.242900</td>\n",
       "      <td>-0.219475</td>\n",
       "      <td>1.015999</td>\n",
       "      <td>-0.272599</td>\n",
       "      <td>0.434551</td>\n",
       "      <td>0.283316</td>\n",
       "      <td>0.898797</td>\n",
       "      <td>0.604198</td>\n",
       "      <td>-0.350561</td>\n",
       "      <td>0.072833</td>\n",
       "      <td>...</td>\n",
       "      <td>1.430362</td>\n",
       "      <td>0.820423</td>\n",
       "      <td>1.538341</td>\n",
       "      <td>1.016238e+00</td>\n",
       "      <td>0.859600</td>\n",
       "      <td>1.263543</td>\n",
       "      <td>1.384072</td>\n",
       "      <td>0.194527</td>\n",
       "      <td>1.015787</td>\n",
       "      <td>1.0</td>\n",
       "    </tr>\n",
       "    <tr>\n",
       "      <th>max</th>\n",
       "      <td>3.966816</td>\n",
       "      <td>3.589637</td>\n",
       "      <td>2.117615</td>\n",
       "      <td>3.668398</td>\n",
       "      <td>2.732346</td>\n",
       "      <td>3.476688</td>\n",
       "      <td>1.117494</td>\n",
       "      <td>3.287300</td>\n",
       "      <td>1.661245</td>\n",
       "      <td>1.530926</td>\n",
       "      <td>...</td>\n",
       "      <td>7.465717</td>\n",
       "      <td>12.087360</td>\n",
       "      <td>4.951512</td>\n",
       "      <td>1.080634e+01</td>\n",
       "      <td>2.759736</td>\n",
       "      <td>2.343736</td>\n",
       "      <td>7.329902</td>\n",
       "      <td>15.266159</td>\n",
       "      <td>12.593774</td>\n",
       "      <td>1.0</td>\n",
       "    </tr>\n",
       "  </tbody>\n",
       "</table>\n",
       "<p>8 rows × 105 columns</p>\n",
       "</div>"
      ],
      "text/plain": [
       "              0           1           2           3           4           5    \\\n",
       "count  127.000000  127.000000  127.000000  127.000000  127.000000  127.000000   \n",
       "mean    -0.058575   -0.007327   -0.107939   -0.086410   -0.085871   -0.096098   \n",
       "std      0.769837    1.005445    0.945672    0.839435    1.003998    0.998196   \n",
       "min     -0.417173   -0.487722   -1.557842   -0.272599   -1.431329   -3.058221   \n",
       "25%     -0.410832   -0.487722   -0.891036   -0.272599   -0.947582   -0.567918   \n",
       "50%     -0.398269   -0.487722   -0.375976   -0.272599   -0.299707   -0.127698   \n",
       "75%     -0.242900   -0.219475    1.015999   -0.272599    0.434551    0.283316   \n",
       "max      3.966816    3.589637    2.117615    3.668398    2.732346    3.476688   \n",
       "\n",
       "              6           7           8           9    ...           95   \\\n",
       "count  127.000000  127.000000  127.000000  127.000000  ...    127.000000   \n",
       "mean    -0.114581    0.003845   -0.129240   -0.130670  ...      1.007449   \n",
       "std      1.042254    0.920171    0.946051    0.933732  ...      1.371094   \n",
       "min     -2.225199   -1.263551   -0.982843   -1.308051  ...      0.001645   \n",
       "25%     -1.240171   -0.762417   -0.637962   -0.785394  ...      0.125565   \n",
       "50%      0.111130   -0.202052   -0.523001   -0.601276  ...      0.811838   \n",
       "75%      0.898797    0.604198   -0.350561    0.072833  ...      1.430362   \n",
       "max      1.117494    3.287300    1.661245    1.530926  ...      7.465717   \n",
       "\n",
       "              96          97            98          99          100  \\\n",
       "count  127.000000  127.000000  1.270000e+02  127.000000  127.000000   \n",
       "mean     0.997785    1.090868  8.400622e-01    0.904669    0.882064   \n",
       "std      2.065959    1.036346  1.279148e+00    0.986262    0.858238   \n",
       "min      0.000275    0.000064  4.799164e-07    0.031727    0.000269   \n",
       "25%      0.041906    0.281686  1.238452e-01    0.273531    0.181269   \n",
       "50%      0.212584    0.883020  5.135718e-01    0.406995    0.571079   \n",
       "75%      0.820423    1.538341  1.016238e+00    0.859600    1.263543   \n",
       "max     12.087360    4.951512  1.080634e+01    2.759736    2.343736   \n",
       "\n",
       "              101         102         103    104  \n",
       "count  127.000000  127.000000  127.000000  127.0  \n",
       "mean     1.005011    0.912351    0.914621    1.0  \n",
       "std      1.277402    2.881870    1.762049    0.0  \n",
       "min      0.000423    0.000205    0.000006    1.0  \n",
       "25%      0.105174    0.130853    0.091965    1.0  \n",
       "50%      0.650565    0.175848    0.311722    1.0  \n",
       "75%      1.384072    0.194527    1.015787    1.0  \n",
       "max      7.329902   15.266159   12.593774    1.0  \n",
       "\n",
       "[8 rows x 105 columns]"
      ]
     },
     "execution_count": 9,
     "metadata": {},
     "output_type": "execute_result"
    }
   ],
   "source": [
    "df_test = pd.DataFrame(X_test)\n",
    "df_test.describe()"
   ]
  },
  {
   "cell_type": "code",
   "execution_count": null,
   "metadata": {},
   "outputs": [],
   "source": [
    "def run():\n",
    "    # Intialize parameters for gradient descent\n",
    "    num_iterations = 1200\n",
    "    learning_rate = 0.01\n",
    "    m = gradient_descent(X_train, Y_train, learning_rate, num_iterations)\n",
    "    print(m)\n",
    "    Y_pred = predict(X_test, m)\n",
    "    np.savetxt('pred.csv', Y_pred, fmt='%.5f', delimiter=',')"
   ]
  },
  {
   "cell_type": "code",
   "execution_count": null,
   "metadata": {},
   "outputs": [
    {
     "name": "stdout",
     "output_type": "stream",
     "text": [
      "Cost - :  0 291.0192669088228\n"
     ]
    },
    {
     "data": {
      "image/png": "[encoded data removed]",
      "text/plain": [
       "<Figure size 432x288 with 1 Axes>"
      ]
     },
     "metadata": {
      "needs_background": "light"
     },
     "output_type": "display_data"
    },
    {
     "name": "stdout",
     "output_type": "stream",
     "text": [
      "Cost - :  1 222.42682225085792\n"
     ]
    },
    {
     "data": {
      "image/png": "[encoded data removed]",
      "text/plain": [
       "<Figure size 432x288 with 1 Axes>"
      ]
     },
     "metadata": {
      "needs_background": "light"
     },
     "output_type": "display_data"
    },
    {
     "name": "stdout",
     "output_type": "stream",
     "text": [
      "Cost - :  2 190.69949804227147\n"
     ]
    },
    {
     "data": {
      "image/png": "[encoded data removed]",
      "text/plain": [
       "<Figure size 432x288 with 1 Axes>"
      ]
     },
     "metadata": {
      "needs_background": "light"
     },
     "output_type": "display_data"
    },
    {
     "name": "stdout",
     "output_type": "stream",
     "text": [
      "Cost - :  3 169.13343572481884\n"
     ]
    },
    {
     "data": {
      "image/png": "[encoded data removed]",
      "text/plain": [
       "<Figure size 432x288 with 1 Axes>"
      ]
     },
     "metadata": {
      "needs_background": "light"
     },
     "output_type": "display_data"
    },
    {
     "name": "stdout",
     "output_type": "stream",
     "text": [
      "Cost - :  4 152.15372956578238\n"
     ]
    },
    {
     "data": {
      "image/png": "[encoded data removed]",
      "text/plain": [
       "<Figure size 432x288 with 1 Axes>"
      ]
     },
     "metadata": {
      "needs_background": "light"
     },
     "output_type": "display_data"
    },
    {
     "name": "stdout",
     "output_type": "stream",
     "text": [
      "Cost - :  5 138.14888146234617\n"
     ]
    },
    {
     "data": {
      "image/png": "[encoded data removed]",
      "text/plain": [
       "<Figure size 432x288 with 1 Axes>"
      ]
     },
     "metadata": {
      "needs_background": "light"
     },
     "output_type": "display_data"
    },
    {
     "name": "stdout",
     "output_type": "stream",
     "text": [
      "Cost - :  6 126.38062860072276\n"
     ]
    },
    {
     "data": {
      "image/png": "[encoded data removed]",
      "text/plain": [
       "<Figure size 432x288 with 1 Axes>"
      ]
     },
     "metadata": {
      "needs_background": "light"
     },
     "output_type": "display_data"
    },
    {
     "name": "stdout",
     "output_type": "stream",
     "text": [
      "Cost - :  7 116.38247384336951\n"
     ]
    },
    {
     "data": {
      "image/png": "[encoded data removed]",
      "text/plain": [
       "<Figure size 432x288 with 1 Axes>"
      ]
     },
     "metadata": {
      "needs_background": "light"
     },
     "output_type": "display_data"
    },
    {
     "name": "stdout",
     "output_type": "stream",
     "text": [
      "Cost - :  8 107.81667182268492\n"
     ]
    },
    {
     "data": {
      "image/png": "[encoded data removed]",
      "text/plain": [
       "<Figure size 432x288 with 1 Axes>"
      ]
     },
     "metadata": {
      "needs_background": "light"
     },
     "output_type": "display_data"
    },
    {
     "name": "stdout",
     "output_type": "stream",
     "text": [
      "Cost - :  9 100.42531755819817\n"
     ]
    },
    {
     "data": {
      "image/png": "[encoded data removed]",
      "text/plain": [
       "<Figure size 432x288 with 1 Axes>"
      ]
     },
     "metadata": {
      "needs_background": "light"
     },
     "output_type": "display_data"
    },
    {
     "name": "stdout",
     "output_type": "stream",
     "text": [
      "Cost - :  10 94.00624115664722\n"
     ]
    },
    {
     "data": {
      "image/png": "[encoded data removed]",
      "text/plain": [
       "<Figure size 432x288 with 1 Axes>"
      ]
     },
     "metadata": {
      "needs_background": "light"
     },
     "output_type": "display_data"
    },
    {
     "name": "stdout",
     "output_type": "stream",
     "text": [
      "Cost - :  11 88.39830830096983\n"
     ]
    },
    {
     "data": {
      "image/png": "[encoded data removed]",
      "text/plain": [
       "<Figure size 432x288 with 1 Axes>"
      ]
     },
     "metadata": {
      "needs_background": "light"
     },
     "output_type": "display_data"
    },
    {
     "name": "stdout",
     "output_type": "stream",
     "text": [
      "Cost - :  12 83.47152782932774\n"
     ]
    },
    {
     "data": {
      "image/png": "[encoded data removed]",
      "text/plain": [
       "<Figure size 432x288 with 1 Axes>"
      ]
     },
     "metadata": {
      "needs_background": "light"
     },
     "output_type": "display_data"
    },
    {
     "name": "stdout",
     "output_type": "stream",
     "text": [
      "Cost - :  13 79.12004206279842\n"
     ]
    },
    {
     "data": {
      "image/png": "[encoded data removed]",
      "text/plain": [
       "<Figure size 432x288 with 1 Axes>"
      ]
     },
     "metadata": {
      "needs_background": "light"
     },
     "output_type": "display_data"
    },
    {
     "name": "stdout",
     "output_type": "stream",
     "text": [
      "Cost - :  14 75.25698885051709\n"
     ]
    },
    {
     "data": {
      "image/png": "[encoded data removed]",
      "text/plain": [
       "<Figure size 432x288 with 1 Axes>"
      ]
     },
     "metadata": {
      "needs_background": "light"
     },
     "output_type": "display_data"
    },
    {
     "name": "stdout",
     "output_type": "stream",
     "text": [
      "Cost - :  15 71.81063927469063\n"
     ]
    },
    {
     "data": {
      "image/png": "[encoded data removed]",
      "text/plain": [
       "<Figure size 432x288 with 1 Axes>"
      ]
     },
     "metadata": {
      "needs_background": "light"
     },
     "output_type": "display_data"
    },
    {
     "name": "stdout",
     "output_type": "stream",
     "text": [
      "Cost - :  16 68.72143676113008\n"
     ]
    },
    {
     "data": {
      "image/png": "[encoded data removed]",
      "text/plain": [
       "<Figure size 432x288 with 1 Axes>"
      ]
     },
     "metadata": {
      "needs_background": "light"
     },
     "output_type": "display_data"
    },
    {
     "name": "stdout",
     "output_type": "stream",
     "text": [
      "Cost - :  17 65.93969190664662\n"
     ]
    },
    {
     "data": {
      "image/png": "[encoded data removed]",
      "text/plain": [
       "<Figure size 432x288 with 1 Axes>"
      ]
     },
     "metadata": {
      "needs_background": "light"
     },
     "output_type": "display_data"
    },
    {
     "name": "stdout",
     "output_type": "stream",
     "text": [
      "Cost - :  18 63.42376567072958\n"
     ]
    },
    {
     "data": {
      "image/png": "[encoded data removed]",
      "text/plain": [
       "<Figure size 432x288 with 1 Axes>"
      ]
     },
     "metadata": {
      "needs_background": "light"
     },
     "output_type": "display_data"
    },
    {
     "name": "stdout",
     "output_type": "stream",
     "text": [
      "Cost - :  19 61.13862327248326\n"
     ]
    },
    {
     "data": {
      "image/png": "[encoded data removed]",
      "text/plain": [
       "<Figure size 432x288 with 1 Axes>"
      ]
     },
     "metadata": {
      "needs_background": "light"
     },
     "output_type": "display_data"
    },
    {
     "name": "stdout",
     "output_type": "stream",
     "text": [
      "Cost - :  20 59.05467382502524\n"
     ]
    },
    {
     "data": {
      "image/png": "[encoded data removed]",
      "text/plain": [
       "<Figure size 432x288 with 1 Axes>"
      ]
     },
     "metadata": {
      "needs_background": "light"
     },
     "output_type": "display_data"
    },
    {
     "name": "stdout",
     "output_type": "stream",
     "text": [
      "Cost - :  21 57.14683296464836\n"
     ]
    },
    {
     "data": {
      "image/png": "[encoded data removed]",
      "text/plain": [
       "<Figure size 432x288 with 1 Axes>"
      ]
     },
     "metadata": {
      "needs_background": "light"
     },
     "output_type": "display_data"
    },
    {
     "name": "stdout",
     "output_type": "stream",
     "text": [
      "Cost - :  22 55.39376128513524\n"
     ]
    },
    {
     "data": {
      "image/png": "[encoded data removed]",
      "text/plain": [
       "<Figure size 432x288 with 1 Axes>"
      ]
     },
     "metadata": {
      "needs_background": "light"
     },
     "output_type": "display_data"
    },
    {
     "name": "stdout",
     "output_type": "stream",
     "text": [
      "Cost - :  23 53.77724254494079\n"
     ]
    },
    {
     "data": {
      "image/png": "[encoded data removed]",
      "text/plain": [
       "<Figure size 432x288 with 1 Axes>"
      ]
     },
     "metadata": {
      "needs_background": "light"
     },
     "output_type": "display_data"
    },
    {
     "name": "stdout",
     "output_type": "stream",
     "text": [
      "Cost - :  24 52.28167378830379\n"
     ]
    },
    {
     "data": {
      "image/png": "[encoded data removed]",
      "text/plain": [
       "<Figure size 432x288 with 1 Axes>"
      ]
     },
     "metadata": {
      "needs_background": "light"
     },
     "output_type": "display_data"
    },
    {
     "name": "stdout",
     "output_type": "stream",
     "text": [
      "Cost - :  25 50.89364561507293\n"
     ]
    },
    {
     "data": {
      "image/png": "[encoded data removed]",
      "text/plain": [
       "<Figure size 432x288 with 1 Axes>"
      ]
     },
     "metadata": {
      "needs_background": "light"
     },
     "output_type": "display_data"
    },
    {
     "name": "stdout",
     "output_type": "stream",
     "text": [
      "Cost - :  26 49.60159544506257\n"
     ]
    },
    {
     "data": {
      "image/png": "[encoded data removed]",
      "text/plain": [
       "<Figure size 432x288 with 1 Axes>"
      ]
     },
     "metadata": {
      "needs_background": "light"
     },
     "output_type": "display_data"
    },
    {
     "name": "stdout",
     "output_type": "stream",
     "text": [
      "Cost - :  27 48.39552015582985\n"
     ]
    },
    {
     "data": {
      "image/png": "[encoded data removed]",
      "text/plain": [
       "<Figure size 432x288 with 1 Axes>"
      ]
     },
     "metadata": {
      "needs_background": "light"
     },
     "output_type": "display_data"
    },
    {
     "name": "stdout",
     "output_type": "stream",
     "text": [
      "Cost - :  28 47.266737208905596\n"
     ]
    },
    {
     "data": {
      "image/png": "[encoded data removed]",
      "text/plain": [
       "<Figure size 432x288 with 1 Axes>"
      ]
     },
     "metadata": {
      "needs_background": "light"
     },
     "output_type": "display_data"
    },
    {
     "name": "stdout",
     "output_type": "stream",
     "text": [
      "Cost - :  29 46.20768551789013\n"
     ]
    },
    {
     "data": {
      "image/png": "[encoded data removed]",
      "text/plain": [
       "<Figure size 432x288 with 1 Axes>"
      ]
     },
     "metadata": {
      "needs_background": "light"
     },
     "output_type": "display_data"
    },
    {
     "name": "stdout",
     "output_type": "stream",
     "text": [
      "Cost - :  30 45.21175899621133\n"
     ]
    },
    {
     "data": {
      "image/png": "[encoded data removed]",
      "text/plain": [
       "<Figure size 432x288 with 1 Axes>"
      ]
     },
     "metadata": {
      "needs_background": "light"
     },
     "output_type": "display_data"
    },
    {
     "name": "stdout",
     "output_type": "stream",
     "text": [
      "Cost - :  31 44.273167058145845\n"
     ]
    },
    {
     "data": {
      "image/png": "[encoded data removed]",
      "text/plain": [
       "<Figure size 432x288 with 1 Axes>"
      ]
     },
     "metadata": {
      "needs_background": "light"
     },
     "output_type": "display_data"
    },
    {
     "name": "stdout",
     "output_type": "stream",
     "text": [
      "Cost - :  32 43.38681741232467\n"
     ]
    },
    {
     "data": {
      "image/png": "[encoded data removed]",
      "text/plain": [
       "<Figure size 432x288 with 1 Axes>"
      ]
     },
     "metadata": {
      "needs_background": "light"
     },
     "output_type": "display_data"
    },
    {
     "name": "stdout",
     "output_type": "stream",
     "text": [
      "Cost - :  33 42.5482173414073\n"
     ]
    },
    {
     "data": {
      "image/png": "[encoded data removed]",
      "text/plain": [
       "<Figure size 432x288 with 1 Axes>"
      ]
     },
     "metadata": {
      "needs_background": "light"
     },
     "output_type": "display_data"
    },
    {
     "name": "stdout",
     "output_type": "stream",
     "text": [
      "Cost - :  34 41.75339034985453\n"
     ]
    },
    {
     "data": {
      "image/png": "[encoded data removed]",
      "text/plain": [
       "<Figure size 432x288 with 1 Axes>"
      ]
     },
     "metadata": {
      "needs_background": "light"
     },
     "output_type": "display_data"
    },
    {
     "name": "stdout",
     "output_type": "stream",
     "text": [
      "Cost - :  35 40.998805618304864\n"
     ]
    },
    {
     "data": {
      "image/png": "[encoded data removed]",
      "text/plain": [
       "<Figure size 432x288 with 1 Axes>"
      ]
     },
     "metadata": {
      "needs_background": "light"
     },
     "output_type": "display_data"
    },
    {
     "name": "stdout",
     "output_type": "stream",
     "text": [
      "Cost - :  36 40.28131815475824\n"
     ]
    },
    {
     "data": {
      "image/png": "[encoded data removed]",
      "text/plain": [
       "<Figure size 432x288 with 1 Axes>"
      ]
     },
     "metadata": {
      "needs_background": "light"
     },
     "output_type": "display_data"
    },
    {
     "name": "stdout",
     "output_type": "stream",
     "text": [
      "Cost - :  37 39.598117900526695\n"
     ]
    },
    {
     "data": {
      "image/png": "[encoded data removed]",
      "text/plain": [
       "<Figure size 432x288 with 1 Axes>"
      ]
     },
     "metadata": {
      "needs_background": "light"
     },
     "output_type": "display_data"
    },
    {
     "name": "stdout",
     "output_type": "stream",
     "text": [
      "Cost - :  38 38.94668634919534\n"
     ]
    },
    {
     "data": {
      "image/png": "[encoded data removed]",
      "text/plain": [
       "<Figure size 432x288 with 1 Axes>"
      ]
     },
     "metadata": {
      "needs_background": "light"
     },
     "output_type": "display_data"
    },
    {
     "name": "stdout",
     "output_type": "stream",
     "text": [
      "Cost - :  39 38.32475948268369\n"
     ]
    },
    {
     "data": {
      "image/png": "[encoded data removed]",
      "text/plain": [
       "<Figure size 432x288 with 1 Axes>"
      ]
     },
     "metadata": {
      "needs_background": "light"
     },
     "output_type": "display_data"
    },
    {
     "name": "stdout",
     "output_type": "stream",
     "text": [
      "Cost - :  40 37.73029603027289\n"
     ]
    },
    {
     "data": {
      "image/png": "[encoded data removed]",
      "text/plain": [
       "<Figure size 432x288 with 1 Axes>"
      ]
     },
     "metadata": {
      "needs_background": "light"
     },
     "output_type": "display_data"
    },
    {
     "name": "stdout",
     "output_type": "stream",
     "text": [
      "Cost - :  41 37.161450222457404\n"
     ]
    },
    {
     "data": {
      "image/png": "[encoded data removed]",
      "text/plain": [
       "<Figure size 432x288 with 1 Axes>"
      ]
     },
     "metadata": {
      "needs_background": "light"
     },
     "output_type": "display_data"
    },
    {
     "name": "stdout",
     "output_type": "stream",
     "text": [
      "Cost - :  42 36.616548348333055\n"
     ]
    },
    {
     "data": {
      "image/png": "[encoded data removed]",
      "text/plain": [
       "<Figure size 432x288 with 1 Axes>"
      ]
     },
     "metadata": {
      "needs_background": "light"
     },
     "output_type": "display_data"
    },
    {
     "name": "stdout",
     "output_type": "stream",
     "text": [
      "Cost - :  43 36.09406853830662\n"
     ]
    },
    {
     "data": {
      "image/png": "[encoded data removed]",
      "text/plain": [
       "<Figure size 432x288 with 1 Axes>"
      ]
     },
     "metadata": {
      "needs_background": "light"
     },
     "output_type": "display_data"
    },
    {
     "name": "stdout",
     "output_type": "stream",
     "text": [
      "Cost - :  44 35.592623287522024\n"
     ]
    },
    {
     "data": {
      "image/png": "[encoded data removed]",
      "text/plain": [
       "<Figure size 432x288 with 1 Axes>"
      ]
     },
     "metadata": {
      "needs_background": "light"
     },
     "output_type": "display_data"
    }
   ],
   "source": [
    "run()"
   ]
  }
 ],
 "metadata": {
  "kernelspec": {
   "display_name": "Python 3",
   "language": "python",
   "name": "python3"
  },
  "language_info": {
   "codemirror_mode": {
    "name": "ipython",
    "version": 3
   },
   "file_extension": ".py",
   "mimetype": "text/x-python",
   "name": "python",
   "nbconvert_exporter": "python",
   "pygments_lexer": "ipython3",
   "version": "3.7.1"
  }
 },
 "nbformat": 4,
 "nbformat_minor": 2
}
